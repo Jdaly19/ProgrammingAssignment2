{
  "nbformat": 4,
  "nbformat_minor": 0,
  "metadata": {
    "colab": {
      "name": "Untitled1.ipynb",
      "provenance": [],
      "authorship_tag": "ABX9TyP+X0KvFGqZnA428X2tSsni",
      "include_colab_link": true
    },
    "kernelspec": {
      "name": "python3",
      "display_name": "Python 3"
    },
    "language_info": {
      "name": "python"
    }
  },
  "cells": [
    {
      "cell_type": "markdown",
      "metadata": {
        "id": "view-in-github",
        "colab_type": "text"
      },
      "source": [
        "<a href=\"https://colab.research.google.com/github/Jdaly19/ProgrammingAssignment2/blob/master/Exercise_1_01.ipynb\" target=\"_parent\"><img src=\"https://colab.research.google.com/assets/colab-badge.svg\" alt=\"Open In Colab\"/></a>"
      ]
    },
    {
      "cell_type": "code",
      "execution_count": 7,
      "metadata": {
        "colab": {
          "base_uri": "https://localhost:8080/"
        },
        "id": "h4977xp6wmKp",
        "outputId": "acb7948c-2d5a-4091-c0e4-733d6c8299b0"
      },
      "outputs": [
        {
          "output_type": "stream",
          "name": "stdout",
          "text": [
            "['Linear Regression', 'Logistic Regression', 'RandomForest', 'a3c', 'k-means']\n",
            "['Supervised', 'Supervised', 'Supervised', 'Reinforcement', 'Unsupervised']\n",
            "['Regression', 'Classification', 'Regression or Classification', 'Game AI', 'Clustering']\n",
            "{'algorithim': ['Linear Regression', 'Logistic Regression', 'RandomForest', 'a3c', 'k-means']}\n",
            "{'algorithim': ['Linear Regression', 'Logistic Regression', 'RandomForest', 'a3c', 'k-means'], 'learning': ['Supervised', 'Supervised', 'Supervised', 'Reinforcement', 'Unsupervised'], 'algorithim_type': ['Regression', 'Classification', 'Regression or Classification', 'Game AI', 'Clustering']}\n",
            "['Linear Regression', 'Logistic Regression', 'RandomForest', 'k-means']\n",
            "{'algorithim': ['Linear Regression', 'Logistic Regression', 'RandomForest', 'k-means'], 'learning': ['Supervised', 'Supervised', 'Supervised', 'Unsupervised'], 'algorithim_type': ['Regression', 'Classification', 'Regression or Classification', 'Clustering']}\n"
          ]
        }
      ],
      "source": [
        "algorithim = ['Linear Regression', 'Logistic Regression', 'RandomForest', 'a3c']\n",
        "learning = ['Supervised', 'Supervised', 'Supervised', 'Reinforcement']\n",
        "algorithim_type = ['Regression', 'Classification', 'Regression or Classification', 'Game AI']\n",
        "algorithim.append('k-means')\n",
        "print(algorithim)\n",
        "learning.append('Unsupervised')\n",
        "print(learning)\n",
        "algorithim_type.append('Clustering')\n",
        "print(algorithim_type)\n",
        "machine_learning = {}\n",
        "machine_learning['algorithim'] = algorithim\n",
        "print(machine_learning)\n",
        "machine_learning['learning'] = learning\n",
        "machine_learning['algorithim_type'] = algorithim_type\n",
        "print(machine_learning)\n",
        "machine_learning['algorithim'].remove('a3c')\n",
        "print(machine_learning['algorithim'])\n",
        "machine_learning['learning'].remove('Reinforcement')\n",
        "machine_learning['algorithim_type'].remove('Game AI')\n",
        "print(machine_learning)"
      ]
    }
  ]
}